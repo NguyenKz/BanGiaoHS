{
 "cells": [
  {
   "attachments": {},
   "cell_type": "markdown",
   "metadata": {},
   "source": [
    "# Cài Đặt"
   ]
  },
  {
   "cell_type": "code",
   "execution_count": null,
   "metadata": {},
   "outputs": [],
   "source": [
    "## Cài đặt selenium\n",
    "!pip install selenium"
   ]
  },
  {
   "cell_type": "code",
   "execution_count": null,
   "metadata": {},
   "outputs": [],
   "source": [
    "## Cà đặt webdriver\n",
    "!pip install webdriver-manager"
   ]
  },
  {
   "attachments": {},
   "cell_type": "markdown",
   "metadata": {},
   "source": [
    "# Demo"
   ]
  },
  {
   "attachments": {},
   "cell_type": "markdown",
   "metadata": {},
   "source": [
    "### Khởi tạo selenium"
   ]
  },
  {
   "cell_type": "code",
   "execution_count": null,
   "metadata": {},
   "outputs": [],
   "source": [
    "from selenium import webdriver\n",
    "from webdriver_manager.chrome import ChromeDriverManager\n",
    "# Phai cai đặt google chrome trước nha, nếu không sẽ lỗi.\n",
    "driver = webdriver.Chrome(ChromeDriverManager().install())"
   ]
  },
  {
   "attachments": {},
   "cell_type": "markdown",
   "metadata": {},
   "source": [
    "### Điều khiển selenium"
   ]
  },
  {
   "cell_type": "code",
   "execution_count": null,
   "metadata": {},
   "outputs": [],
   "source": [
    "## Mở Facebook\n",
    "driver.get(\"https://facebook.com\")"
   ]
  },
  {
   "cell_type": "code",
   "execution_count": null,
   "metadata": {},
   "outputs": [],
   "source": [
    "## Mở youtube\n",
    "driver.get(\"https://youtube.com\")"
   ]
  },
  {
   "attachments": {},
   "cell_type": "markdown",
   "metadata": {},
   "source": [
    "### Lấy source của trang web"
   ]
  },
  {
   "cell_type": "code",
   "execution_count": null,
   "metadata": {},
   "outputs": [],
   "source": [
    "print(driver.page_source)"
   ]
  },
  {
   "attachments": {},
   "cell_type": "markdown",
   "metadata": {},
   "source": [
    "### Lấy một thông tin trong trang Facebook"
   ]
  },
  {
   "cell_type": "code",
   "execution_count": 5,
   "metadata": {},
   "outputs": [],
   "source": [
    "## Mở Facebook\n",
    "driver.get(\"https://mbasic.facebook.com\")"
   ]
  },
  {
   "cell_type": "code",
   "execution_count": 8,
   "metadata": {},
   "outputs": [
    {
     "data": {
      "text/plain": [
       "'Phone number or email address'"
      ]
     },
     "execution_count": 8,
     "metadata": {},
     "output_type": "execute_result"
    }
   ],
   "source": [
    "from selenium.webdriver.common.by import By\n",
    "driver.find_element(by = By.XPATH,value='//form//span').text"
   ]
  },
  {
   "attachments": {},
   "cell_type": "markdown",
   "metadata": {},
   "source": [
    "### Đăng nhập vào Facebook bằng tài khoản mật khẩu."
   ]
  },
  {
   "cell_type": "code",
   "execution_count": 10,
   "metadata": {},
   "outputs": [
    {
     "name": "stderr",
     "output_type": "stream",
     "text": [
      "C:\\Users\\NguyenKz\\AppData\\Local\\Temp\\ipykernel_5804\\3948433050.py:6: DeprecationWarning: executable_path has been deprecated, please pass in a Service object\n",
      "  driver = webdriver.Chrome(ChromeDriverManager().install())\n"
     ]
    }
   ],
   "source": [
    "from selenium import webdriver\n",
    "from webdriver_manager.chrome import ChromeDriverManager\n",
    "from selenium.webdriver.common.by import By\n",
    "import time\n",
    "# Phai cai đặt google chrome trước nha, nếu không sẽ lỗi.\n",
    "driver = webdriver.Chrome(ChromeDriverManager().install())\n",
    "## Mở Facebook\n",
    "driver.get(\"https://facebook.com\")\n",
    "\n",
    "## Lay các element trong trang\n",
    "email_element = driver.find_element(by=By.ID,value=\"email\")\n",
    "password_element = driver.find_element(by=By.ID,value=\"pass\")\n",
    "\n",
    "## Login button không có ID nên phải tìm cách khác, ở đây tôi dùng xpath\n",
    "login_button_element = driver.find_element(by=By.XPATH,value=\"//form//button[@name='login']\")\n",
    "\n",
    "## Thực hiện hành động ###\n",
    "\n",
    "## Cick vào ô email\n",
    "email_element.click()\n",
    "time.sleep(1)\n",
    "## Gõ email\n",
    "email_element.send_keys(\"tai_khoan_demo\")\n",
    "time.sleep(1)\n",
    "\n",
    "\n",
    "\n",
    "## Cick vào ô pass\n",
    "password_element.click()\n",
    "time.sleep(1)\n",
    "## Gõ pass\n",
    "password_element.send_keys(\"tai_khoan_demo\")\n",
    "\n",
    "time.sleep(2)\n",
    "## Cick vao nut đăng nhập\n",
    "login_button_element.click()\n",
    "\n",
    "## Nếu như nhập đúng tài khoản và mật khẩu thì sẽ đăng nhập được, tôi không có tài khoản thử\n",
    "## nghiệm nên nhập đại."
   ]
  },
  {
   "attachments": {},
   "cell_type": "markdown",
   "metadata": {},
   "source": [
    "### Đăng nhập bằng cookies"
   ]
  },
  {
   "cell_type": "code",
   "execution_count": 14,
   "metadata": {},
   "outputs": [
    {
     "name": "stderr",
     "output_type": "stream",
     "text": [
      "C:\\Users\\NguyenKz\\AppData\\Local\\Temp\\ipykernel_5804\\1054794625.py:5: DeprecationWarning: executable_path has been deprecated, please pass in a Service object\n",
      "  driver = webdriver.Chrome(ChromeDriverManager().install())\n"
     ]
    },
    {
     "name": "stdout",
     "output_type": "stream",
     "text": [
      "{'sb': 'it-0Y8BIWCB2AStlyOXy_x0T', 'c_user': '100003156339076', 'xs': '9:IWqvxUFT0L-vRA:2:1672798107:-1:6149::AcWGBoNXvAQ4vTHoS_iL42TDcE8jZSLAVN6jewLFA4Q'}\n",
      "==========Login===========\n",
      "sb  =  it-0Y8BIWCB2AStlyOXy_x0T\n",
      "c_user  =  100003156339076\n",
      "xs  =  9:IWqvxUFT0L-vRA:2:1672798107:-1:6149::AcWGBoNXvAQ4vTHoS_iL42TDcE8jZSLAVN6jewLFA4Q\n"
     ]
    }
   ],
   "source": [
    "from selenium import webdriver\n",
    "from webdriver_manager.chrome import ChromeDriverManager\n",
    "from selenium.webdriver.common.by import By\n",
    "# Phai cai đặt google chrome trước nha, nếu không sẽ lỗi.\n",
    "driver = webdriver.Chrome(ChromeDriverManager().install())\n",
    "## Mở Facebook\n",
    "driver.get(\"https://facebook.com\")\n",
    "# Đầu tiên chúng ta phải có cookie, tôi sẽ lấy cookie của tài khoản thật của tôi.\n",
    "cookies = 'your cookie'\n",
    "cookies = cookies.split(\"; \")\n",
    "cookie = {}\n",
    "for _cookie in cookies:\n",
    "    if _cookie.find(\"=\")<0:\n",
    "        continue\n",
    "\n",
    "    ### Qua quá trình thử nghiệm thì tôi nhận thấy chỉ có 3 trường trong cookie của Facebook là cần thiêt là: sb, xs, c_user\n",
    "    key,value = _cookie.split(\"=\")\n",
    "    if key not in [\"sb\",\"xs\",\"c_user\"]:\n",
    "        continue\n",
    "    cookie[key]=value\n",
    "print(cookie)\n",
    "print(\"==========Login===========\")\n",
    "for key in cookie:\n",
    "    print(key,\" = \", cookie[key])\n",
    "    driver.add_cookie({'name':key,'value':cookie[key]})\n",
    "driver.get(\"https://facebook.com\")\n"
   ]
  }
 ],
 "metadata": {
  "kernelspec": {
   "display_name": "venv",
   "language": "python",
   "name": "python3"
  },
  "language_info": {
   "codemirror_mode": {
    "name": "ipython",
    "version": 3
   },
   "file_extension": ".py",
   "mimetype": "text/x-python",
   "name": "python",
   "nbconvert_exporter": "python",
   "pygments_lexer": "ipython3",
   "version": "3.9.13"
  },
  "orig_nbformat": 4,
  "vscode": {
   "interpreter": {
    "hash": "d5dc06249c74f6f77d4b47d1263ec50d4e2dcf66523e18051c2d24d078854b6b"
   }
  }
 },
 "nbformat": 4,
 "nbformat_minor": 2
}
