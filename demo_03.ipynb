{
 "cells": [
  {
   "attachments": {},
   "cell_type": "markdown",
   "metadata": {},
   "source": [
    "### Thực hiện tác vụ gửi tin nhắn"
   ]
  },
  {
   "cell_type": "code",
   "execution_count": null,
   "metadata": {},
   "outputs": [],
   "source": [
    "import time\n",
    "from selenium import webdriver\n",
    "from webdriver_manager.chrome import ChromeDriverManager\n",
    "from selenium.webdriver.common.by import By\n",
    "from selenium.webdriver.common.action_chains import ActionChains\n",
    "import random\n",
    "# Phai cai đặt google chrome trước nha, nếu không sẽ lỗi.\n",
    "driver = webdriver.Chrome(ChromeDriverManager().install())\n",
    "## Mở Facebook\n",
    "driver.get(\"https://m.facebook.com\")\n",
    "# Đầu tiên chúng ta phải có cookie, tôi sẽ lấy cookie của tài khoản thật của tôi.\n",
    "cookies = 'your cookie'\n",
    "cookies = cookies.split(\"; \")\n",
    "cookie = {}\n",
    "for _cookie in cookies:\n",
    "    if _cookie.find(\"=\")<0:\n",
    "        continue\n",
    "\n",
    "    ### Qua quá trình thử nghiệm thì tôi nhận thấy chỉ có 3 trường trong cookie của Facebook là cần thiêt là: sb, xs, c_user\n",
    "    key,value = _cookie.split(\"=\")\n",
    "    if key not in [\"sb\",\"xs\",\"c_user\"]:\n",
    "        continue\n",
    "    cookie[key]=value\n",
    "\n",
    "print(\"==========Login===========\")\n",
    "for key in cookie:\n",
    "    print(key,\" = \", cookie[key])\n",
    "    driver.add_cookie({'name':key,'value':cookie[key]})\n",
    "driver.get(\"https://m.facebook.com\")\n"
   ]
  },
  {
   "cell_type": "code",
   "execution_count": null,
   "metadata": {},
   "outputs": [],
   "source": [
    "\n",
    "UID_NHAN=\"100016742267140\"\n",
    "text = \"Nhạc Trẻ Remix 8x 9x Đời Đầu Hay Nhất - Đồi Hoa Mặt Trời, Ngôi Nhà Hoa Hồng - NONSTOP Vinahouse 2022\"\n",
    "\n",
    "driver.get(f\"https://m.facebook.com/messages/t/{UID_NHAN}\")\n",
    "send_element = driver.find_element(by=By.XPATH,value=\"//form//button[@type='submit']\")\n",
    "text_element = driver.find_element(by=By.ID,value=\"composerInput\")\n",
    "text_element.click()\n",
    "for key in text:\n",
    "    text_element.send_keys(key)\n",
    "    time.sleep(0.1)\n",
    "\n",
    "    \n",
    "time.sleep(5)\n",
    "send_element.click()\n",
    "\n"
   ]
  }
 ],
 "metadata": {
  "kernelspec": {
   "display_name": "venv",
   "language": "python",
   "name": "python3"
  },
  "language_info": {
   "codemirror_mode": {
    "name": "ipython",
    "version": 3
   },
   "file_extension": ".py",
   "mimetype": "text/x-python",
   "name": "python",
   "nbconvert_exporter": "python",
   "pygments_lexer": "ipython3",
   "version": "3.9.13 (tags/v3.9.13:6de2ca5, May 17 2022, 16:36:42) [MSC v.1929 64 bit (AMD64)]"
  },
  "orig_nbformat": 4,
  "vscode": {
   "interpreter": {
    "hash": "d5dc06249c74f6f77d4b47d1263ec50d4e2dcf66523e18051c2d24d078854b6b"
   }
  }
 },
 "nbformat": 4,
 "nbformat_minor": 2
}
