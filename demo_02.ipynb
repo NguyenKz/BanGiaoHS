{
 "cells": [
  {
   "attachments": {},
   "cell_type": "markdown",
   "metadata": {},
   "source": [
    "### Thực hiện tác vụ like bài viết trên new feeds"
   ]
  },
  {
   "cell_type": "code",
   "execution_count": null,
   "metadata": {},
   "outputs": [],
   "source": [
    "import time\n",
    "from selenium import webdriver\n",
    "from webdriver_manager.chrome import ChromeDriverManager\n",
    "from selenium.webdriver.common.by import By\n",
    "from selenium.webdriver.common.action_chains import ActionChains\n",
    "import random\n",
    "# Phai cai đặt google chrome trước nha, nếu không sẽ lỗi.\n",
    "driver = webdriver.Chrome(ChromeDriverManager().install())\n",
    "## Mở Facebook\n",
    "driver.get(\"https://m.facebook.com\")\n",
    "# Đầu tiên chúng ta phải có cookie, tôi sẽ lấy cookie của tài khoản thật của tôi.\n",
    "cookies = 'your cookie'\n",
    "cookies = cookies.split(\"; \")\n",
    "cookie = {}\n",
    "for _cookie in cookies:\n",
    "    if _cookie.find(\"=\")<0:\n",
    "        continue\n",
    "\n",
    "    ### Qua quá trình thử nghiệm thì tôi nhận thấy chỉ có 3 trường trong cookie của Facebook là cần thiêt là: sb, xs, c_user\n",
    "    key,value = _cookie.split(\"=\")\n",
    "    if key not in [\"sb\",\"xs\",\"c_user\"]:\n",
    "        continue\n",
    "    cookie[key]=value\n",
    "\n",
    "print(\"==========Login===========\")\n",
    "for key in cookie:\n",
    "    print(key,\" = \", cookie[key])\n",
    "    driver.add_cookie({'name':key,'value':cookie[key]})\n",
    "\n",
    "\n",
    "driver.get(\"https://m.facebook.com\")\n",
    "\n",
    "COUNT_POST = 2\n",
    "count = 0\n",
    "\n",
    "while count<COUNT_POST:\n",
    "    \n",
    "    \n",
    "    ### Tìm các nút like của bài viết\n",
    "    like_buttons = driver.find_elements(by=By.XPATH,value=\"//div/a[text()='Like' or text()='Thích']\")\n",
    "    \n",
    "    ### Nếu không tìm thấy thì kết thúc\n",
    "    if len(like_buttons)<=0:\n",
    "        print(\"Không tìm thấy nut like nào.\")\n",
    "        break\n",
    "\n",
    "    print(\"-------------------------------\")\n",
    "    print(f\"Tìm thấy {len(like_buttons)} nút like.\")\n",
    "\n",
    "    ### Chọn 1 bài viết ngẩu nhiên\n",
    "    like_button = like_buttons[random.randint(0,len(like_buttons)-1)]\n",
    "    print(\"Di chuyển đến bài viết\")\n",
    "    ### Khởi tạo 1 action chains\n",
    "    actions = ActionChains(driver)\n",
    "    ### Di chuyển trang đến nút like\n",
    "    actions.move_to_element(like_button)\n",
    "    ### Chờ vài giây rồi thực hiện\n",
    "    actions.perform()\n",
    "    time.sleep(random.randint(0,10))\n",
    "\n",
    "\n",
    "\n",
    "    print(\"Click vào nut like\")\n",
    "    ### Khởi tạo 1 action chains\n",
    "    actions = ActionChains(driver)\n",
    "    ### click nut like\n",
    "    actions.click(like_button)\n",
    "    ### Chờ vài giây rồi thực hiện\n",
    "    actions.perform()\n",
    "    time.sleep(random.randint(0,10))\n",
    "\n",
    "\n",
    "    ### Tăng biết đếm lênh\n",
    "    count+=1\n",
    "\n",
    "print(\"=========================\")\n",
    "print(\"Kết thúc\")\n",
    "print(f\"Like được {count} bài viết\")\n"
   ]
  }
 ],
 "metadata": {
  "kernelspec": {
   "display_name": "venv",
   "language": "python",
   "name": "python3"
  },
  "language_info": {
   "codemirror_mode": {
    "name": "ipython",
    "version": 3
   },
   "file_extension": ".py",
   "mimetype": "text/x-python",
   "name": "python",
   "nbconvert_exporter": "python",
   "pygments_lexer": "ipython3",
   "version": "3.9.13 (tags/v3.9.13:6de2ca5, May 17 2022, 16:36:42) [MSC v.1929 64 bit (AMD64)]"
  },
  "orig_nbformat": 4,
  "vscode": {
   "interpreter": {
    "hash": "d5dc06249c74f6f77d4b47d1263ec50d4e2dcf66523e18051c2d24d078854b6b"
   }
  }
 },
 "nbformat": 4,
 "nbformat_minor": 2
}
